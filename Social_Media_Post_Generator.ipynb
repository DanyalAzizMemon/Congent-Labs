{
 "cells": [
  {
   "cell_type": "code",
   "execution_count": 1,
   "metadata": {},
   "outputs": [],
   "source": [
    "import openai\n",
    "from langchain.chains import LLMChain\n",
    "from langchain.prompts import PromptTemplate\n",
    "from langchain.llms import OpenAI\n"
   ]
  },
  {
   "cell_type": "code",
   "execution_count": 98,
   "metadata": {},
   "outputs": [],
   "source": [
    "prompt_template = \"\"\"\n",
    "You are a professional social media post writer. Based on the following answers, write a social media post similar to the example provided.\n",
    "\n",
    "Original Post Example:\n",
    "Did you know? 75% of classroom-style training is forgotten if it's not implemented within 6 days after.\n",
    "\n",
    "Discover how Sodexo, a world leader in facilities management and food services, joined forces with CoachHub to accelerate their leadership development across APMEA:\n",
    "\n",
    "🚀 Scalable coaching programs powered by AI and analytics with local support\n",
    "🌍 Access to a diverse pool of 3,500 top certified coaches from around the world\n",
    "✨ Unlimited, structured coaching sessions and flexibility 24/7 for a hybrid, mobile workforce\n",
    "🧠 Boost knowledge retention and engagement with global benchmarking\n",
    "✅ Quick implementation with low administrative burden\n",
    "\n",
    "Join thousands of coachees like Sodexo's Head of FMCG Accounts, Jean Baptiste CALEMARD, on a journey of growth and transformation to #ExploreTheGreaterYou:\n",
    "\n",
    "Sample User Answers:\n",
    "Q1. Can you describe the specific case study or transformation story you want to share?\n",
    "Ans. successful collaboration between Sodexo and CoachHub to accelerate leadership development across the APMEA region.\n",
    "\n",
    "Q2. What challenge or problem was addressed in this case?\n",
    "Ans. The challenge addressed in this case was the need for scalable leadership development programs that could effectively engage and develop employees across diverse geographic regions, particularly in the Asia Pacific, Middle East, and Africa (APMEA).\n",
    "\n",
    "Q3. What were the key results or outcomes achieved in this story?\n",
    "Ans. The key results achieved in this story include the implementation of scalable coaching programs powered by AI and analytics, which led to improved knowledge retention, enhanced leadership skills, and increased employee engagement across the APMEA region.\n",
    "\n",
    "Q4. Are there any data, quotes, or testimonials that illustrate the impact?\n",
    "Ans. 75% of classroom-style training is forgotten if it's not implemented within 6 days after.\n",
    "\n",
    "Q5. Is there a specific call-to-action?\n",
    "Ans. Join thousands of coachees like Sodexo's Head of FMCG Accounts, Jean Baptiste CALEMARD, on a journey of growth and transformation to explore the greater you.\n",
    "\n",
    "Q6. Are there any specific hashtags you’d like to include?\n",
    "Ans. #ExploreTheGreaterYou\n",
    "\n",
    "Q7. Describe your desired tone and style.\n",
    "Ans. professional and make sure to write the achievements in the form of points.\n",
    "\n",
    "New User Answers:\n",
    "Q1. Can you describe the specific case study or transformation story you want to share?\n",
    "Ans. {case_study}\n",
    "\n",
    "Q2. What challenge or problem was addressed in this case?\n",
    "Ans. {challenge}\n",
    "\n",
    "Q3. What were the key results or outcomes achieved in this story?\n",
    "Ans. {results}\n",
    "\n",
    "Q4. Are there any data, quotes, or testimonials that illustrate the impact?\n",
    "Ans. {data}\n",
    "\n",
    "Q5. Is there a specific call-to-action?\n",
    "Ans. {cta}\n",
    "\n",
    "Q6. Are there any specific hashtags you’d like to include?\n",
    "Ans. {hashtags}\n",
    "\n",
    "Q7. Describe your desired tone and style.\n",
    "Ans. {tone}\n",
    "\n",
    "Write a social media post. The post should have 4 paragraphs and should be  similar in style to the original post example. \n",
    "The third paragraph contains bullet points which starts with emojis. \n",
    "Third paragraph contains more then one bullet point. \n",
    "Do not add any additional hashtags:\n",
    "\"\"\""
   ]
  },
  {
   "cell_type": "code",
   "execution_count": 99,
   "metadata": {},
   "outputs": [],
   "source": [
    "# Function to generate the social media post\n",
    "def generate_social_media_post(answers, api_key):\n",
    "    \n",
    "    prompt = prompt_template.format(**answers)\n",
    "\n",
    "    \n",
    "    llm = OpenAI(openai_api_key=api_key)\n",
    "\n",
    "    # chain for the llm model\n",
    "    chain = LLMChain(llm=llm, prompt=PromptTemplate.from_template(\"{prompt}\"))\n",
    "\n",
    "    # Generate post\n",
    "    response = chain.run(prompt=prompt)\n",
    "\n",
    "    return response"
   ]
  },
  {
   "cell_type": "markdown",
   "metadata": {},
   "source": [
    "## Using the given Question/Answers to test prompting"
   ]
  },
  {
   "cell_type": "code",
   "execution_count": 100,
   "metadata": {},
   "outputs": [],
   "source": [
    "user_answers = {\n",
    "    \"case_study\": \"successful collaboration between Sodexo and CoachHub to accelerate leadership development across the APMEA region.\",\n",
    "    \"challenge\": \"The challenge addressed in this case was the need for scalable leadership development programs that could effectively engage and develop employees across diverse geographic regions, particularly in the Asia Pacific, Middle East, and Africa (APMEA).\",\n",
    "    \"results\": \"The key results achieved in this story include the implementation of scalable coaching programs powered by AI and analytics, which led to improved knowledge retention, enhanced leadership skills, and increased employee engagement across the APMEA region.\",\n",
    "    \"data\": \"75 percent of classroom-style training is forgotten if it's not implemented within 6 days after.\",\n",
    "    \"cta\": \"Join thousands of coachees like Sodexo's Head of FMCG Accounts, Jean Baptiste CALEMARD, on a journey of growth and transformation to explore the greater you.\",\n",
    "    \"hashtags\": \"#ExploreTheGreaterYou\",\n",
    "    \"tone\": \"professional and make sure to write the achievements in the form of points.\"\n",
    "}"
   ]
  },
  {
   "cell_type": "code",
   "execution_count": 101,
   "metadata": {},
   "outputs": [
    {
     "name": "stdout",
     "output_type": "stream",
     "text": [
      "\n",
      "📢 Did you know? 75% of classroom-style training is forgotten if it's not implemented within 6 days after. But with the successful collaboration between Sodexo and CoachHub, this is no longer a concern.\n",
      "\n",
      "🚀 Discover how Sodexo, a world leader in facilities management and food services, joined forces with CoachHub to accelerate their leadership development across APMEA:\n",
      "✨ Scalable coaching programs powered by AI and analytics with local support\n",
      "🌍 Access to a diverse pool of 3,500 top certified coaches from around the world\n",
      "🧠 Boost knowledge retention and engagement with global benchmarking\n",
      "✅ Quick implementation with low administrative burden\n",
      "\n",
      "🌟 The results speak for themselves. With the implementation of scalable coaching programs, Sodexo saw improved knowledge retention, enhanced leadership skills, and increased employee engagement across the APMEA region. But don't just take our word for it, Sodexo's Head of FMCG Accounts, Jean Baptiste CALEMARD, is just one of the thousands of coachees who have embarked on a journey of growth and transformation with CoachHub. #ExploreTheGreaterYou and join them today!\n"
     ]
    }
   ],
   "source": [
    "api_key = '' #add api key here\n",
    "\n",
    "social_media_post = generate_social_media_post(user_answers, api_key)\n",
    "print(social_media_post)"
   ]
  },
  {
   "cell_type": "markdown",
   "metadata": {},
   "source": [
    "## Testing on predefined New Question/Answers"
   ]
  },
  {
   "cell_type": "code",
   "execution_count": 102,
   "metadata": {},
   "outputs": [],
   "source": [
    "user_answers_scenario_1 = {\n",
    "    \"case_study\": \"The successful implementation of GreenTech Solutions' sustainability initiatives in urban areas.\",\n",
    "    \"challenge\": \"Addressing the rising pollution levels and the need for sustainable practices in city planning.\",\n",
    "    \"results\": \"Deployment of smart waste management systems, reduction in carbon footprint by 30%, and increased public awareness about environmental sustainability.\",\n",
    "    \"data\": \"85% of residents reported improved air quality and cleaner neighborhoods within six months.\",\n",
    "    \"cta\": \"Be part of the green revolution. Join GreenTech Solutions in making our cities cleaner and greener.\",\n",
    "    \"hashtags\": \"#GreenRevolution #SustainableLiving\",\n",
    "    \"tone\": \"Inspiring and eco-conscious, highlighting the positive environmental impact.\"\n",
    "}\n"
   ]
  },
  {
   "cell_type": "code",
   "execution_count": 103,
   "metadata": {},
   "outputs": [
    {
     "name": "stdout",
     "output_type": "stream",
     "text": [
      "\n",
      "Did you know? 85% of residents in urban areas reported improved air quality and cleaner neighborhoods within six months after the implementation of GreenTech Solutions' sustainability initiatives. 🌳🌍🌱 Be inspired by their success and join the #GreenRevolution to make our cities cleaner and greener! 💚\n",
      "\n",
      "🚀 Discover how GreenTech Solutions deployed smart waste management systems and reduced their carbon footprint by 30% through their sustainability initiatives. 💡 With their efforts, they also increased public awareness about environmental sustainability in urban areas. 🌆\n",
      "\n",
      "🌱 Join the green revolution and be part of the solution for a cleaner and greener future. 🌎 Together, we can make a positive impact on our environment and create sustainable cities for generations to come. 🌳 Let's explore the greater potential of sustainability and #SustainableLiving today! 🌱\n",
      "\n",
      "✅ Join GreenTech Solutions in their journey towards a more sustainable future and be a part of the change. 💚 Together, we can make a difference! 🌱 #ExploreTheGreaterYou #GreenRevolution #SustainableLiving\n"
     ]
    }
   ],
   "source": [
    "social_media_post = generate_social_media_post(user_answers_scenario_1, api_key)\n",
    "print(social_media_post)"
   ]
  },
  {
   "cell_type": "code",
   "execution_count": 104,
   "metadata": {},
   "outputs": [],
   "source": [
    "user_answers_scenario_2 = {\n",
    "    \"case_study\": \"A transformative project by HealthPlus Clinics to enhance patient care through telemedicine.\",\n",
    "    \"challenge\": \"Providing accessible and timely healthcare to patients in remote areas.\",\n",
    "    \"results\": \"Introduction of a telehealth platform, leading to a 40% increase in patient consultations and a 25% reduction in hospital visits.\",\n",
    "    \"data\": \"90% of patients reported higher satisfaction with the convenience of telemedicine services.\",\n",
    "    \"cta\": \"Experience the future of healthcare with HealthPlus Clinics' telemedicine solutions.\",\n",
    "    \"hashtags\": \"#Telemedicine #HealthcareInnovation\",\n",
    "    \"tone\": \"Reassuring and forward-looking, emphasizing the convenience and effectiveness of telehealth.\"\n",
    "}\n"
   ]
  },
  {
   "cell_type": "code",
   "execution_count": 105,
   "metadata": {},
   "outputs": [
    {
     "name": "stdout",
     "output_type": "stream",
     "text": [
      "\n",
      "Did you know? Telemedicine is revolutionizing healthcare, making it more accessible and convenient for patients in remote areas. 🚀 HealthPlus Clinics successfully implemented a telehealth platform to enhance patient care. 🏥 #Telemedicine #HealthcareInnovation\n",
      "\n",
      "Through this transformative project, HealthPlus Clinics has achieved remarkable results. 🌟 Patient consultations have increased by 40% and hospital visits have decreased by 25%. 📈 But most importantly, 90% of patients reported higher satisfaction with the convenience of telemedicine services. 💯 #FutureOfHealthcare\n",
      "\n",
      "Experience the future of healthcare with HealthPlus Clinics' telemedicine solutions. ✨ Join the thousands of patients who have benefited from this innovative approach to healthcare. 🌍 Let us help you access timely and quality healthcare, no matter where you are. 🩺 #Telemedicine #HealthcareInnovation\n",
      "\n",
      "Don't miss out on this incredible opportunity to improve your health and well-being. 💪 Contact HealthPlus Clinics today and join the #Telemedicine revolution. 🚀 Let's work together to create a healthier and more connected world. 🌎 #HealthPlusClinics #TransformativeHealthcare\n"
     ]
    }
   ],
   "source": [
    "social_media_post = generate_social_media_post(user_answers_scenario_2, api_key)\n",
    "print(social_media_post)"
   ]
  },
  {
   "cell_type": "code",
   "execution_count": 106,
   "metadata": {},
   "outputs": [],
   "source": [
    "user_answers_scenario_3 = {\n",
    "    \"case_study\": \"The collaboration between FinTech Innovators and Global Bank to modernize financial services.\",\n",
    "    \"challenge\": \"Overcoming the limitations of traditional banking systems to offer more agile and secure financial services.\",\n",
    "    \"results\": \"Implementation of blockchain technology, resulting in faster transaction processing, enhanced security, and improved customer trust.\",\n",
    "    \"data\": \"95% of users experienced significantly quicker transaction times and reported higher confidence in security measures.\",\n",
    "    \"cta\": \"Join the financial revolution with FinTech Innovators and experience seamless banking.\",\n",
    "    \"hashtags\": \"#FinTechRevolution #SecureBanking\",\n",
    "    \"tone\": \"Confident and cutting-edge, showcasing the technological advancements in banking.\"\n",
    "}\n"
   ]
  },
  {
   "cell_type": "code",
   "execution_count": 107,
   "metadata": {},
   "outputs": [
    {
     "name": "stdout",
     "output_type": "stream",
     "text": [
      "\n",
      "🚀Revolutionize your banking experience with the collaboration between FinTech Innovators and Global Bank! 💰💻\n",
      "\n",
      "🌍Say goodbye to traditional banking limitations and hello to faster transactions and enhanced security with the implementation of blockchain technology. 95% of users have already experienced significantly quicker transaction times and reported higher confidence in security measures. 💪\n",
      "\n",
      "Join the financial revolution and experience seamless banking with:\n",
      "✨Innovative blockchain technology for faster transaction processing\n",
      "🔒Enhanced security measures for increased customer trust\n",
      "🌎Access to a global network of financial services\n",
      "📈Improved customer satisfaction and efficiency\n",
      "✅Quick implementation with low administrative burden\n",
      "\n",
      "Don't miss out on the future of banking. Join the ranks of satisfied customers and be a part of the #FinTechRevolution. 💸💳 #SecureBanking #InnovativeTechnology\n"
     ]
    }
   ],
   "source": [
    "social_media_post = generate_social_media_post(user_answers_scenario_3, api_key)\n",
    "print(social_media_post)"
   ]
  },
  {
   "cell_type": "markdown",
   "metadata": {},
   "source": [
    "## Running on users questions"
   ]
  },
  {
   "cell_type": "code",
   "execution_count": 108,
   "metadata": {},
   "outputs": [],
   "source": [
    "question = {}\n",
    "question['case_study'] = input(\"Can you describe the specific case study or transformation story you want to share?\")\n",
    "question['challenge'] = input(\"What challenge or problem was addressed in this case?\")\n",
    "question['results'] = input(\"What were the key results or outcomes achieved in this story?\")\n",
    "question['data'] = input(\"Are there any data, quotes, or testimonials that illustrate the impact?\")\n",
    "question['cta'] = input(\"Is there a specific call-to-action?\")\n",
    "question['hashtags'] = input(\"Are there any specific hashtags you’d like to include?\")\n",
    "question['tone'] = input(\"Describe your desired tone and style.\")\n"
   ]
  },
  {
   "cell_type": "code",
   "execution_count": 42,
   "metadata": {},
   "outputs": [
    {
     "name": "stdout",
     "output_type": "stream",
     "text": [
      "{'case_study': 'merger between telenor and ufone', 'challenge': 'telenor was leaving pakistans market and wanted ufone to buy their franchise', 'results': 'ufone succesfully acquired telenor', 'data': 'around 40% of pakistans population use telenor as their telecom provider', 'cta': 'Experience innovation and coverage by joining ufone', 'hashtags': '#telcos #telenor', 'tone': 'Proud, formal'}\n"
     ]
    }
   ],
   "source": [
    "print(question)"
   ]
  },
  {
   "cell_type": "code",
   "execution_count": 43,
   "metadata": {},
   "outputs": [
    {
     "name": "stdout",
     "output_type": "stream",
     "text": [
      "\n",
      "📢 Exciting news! In a successful merger, @telenor and @ufone have joined forces to bring you even better telecom services in Pakistan. 🚀 With 40% of the population already using Telenor, this partnership is set to revolutionize the industry. Experience innovation and coverage like never before with #Ufone. 🌍 #Telcos #Telenor #ProudPartnership #PakistanTelecom\n"
     ]
    }
   ],
   "source": [
    "social_media_post = generate_social_media_post(question, api_key)\n",
    "print(social_media_post)"
   ]
  },
  {
   "cell_type": "code",
   "execution_count": null,
   "metadata": {},
   "outputs": [],
   "source": []
  }
 ],
 "metadata": {
  "kernelspec": {
   "display_name": "Python 3",
   "language": "python",
   "name": "python3"
  },
  "language_info": {
   "codemirror_mode": {
    "name": "ipython",
    "version": 3
   },
   "file_extension": ".py",
   "mimetype": "text/x-python",
   "name": "python",
   "nbconvert_exporter": "python",
   "pygments_lexer": "ipython3",
   "version": "3.12.2"
  }
 },
 "nbformat": 4,
 "nbformat_minor": 2
}
